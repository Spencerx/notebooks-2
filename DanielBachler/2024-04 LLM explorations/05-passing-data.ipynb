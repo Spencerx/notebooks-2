{
 "cells": [
  {
   "cell_type": "markdown",
   "id": "c6e75dcf-67a6-49f1-b352-73778373c10a",
   "metadata": {},
   "source": [
    "# Passing data in"
   ]
  },
  {
   "cell_type": "markdown",
   "id": "84928e8b-7689-420c-802a-54f625981332",
   "metadata": {},
   "source": [
    "Our goal for this session: to get ChatGPT to do interesting things by passing data."
   ]
  },
  {
   "cell_type": "code",
   "execution_count": 78,
   "id": "4601daba-a9ea-46ee-b307-4c963f122a92",
   "metadata": {},
   "outputs": [],
   "source": [
    "import json\n",
    "from dataclasses import dataclass\n",
    "from typing import Dict, List, Optional\n",
    "import requests\n",
    "import sh\n",
    "from ipywidgets import interact, Dropdown\n",
    "import pandas as pd"
   ]
  },
  {
   "cell_type": "code",
   "execution_count": 41,
   "id": "a62330b7-927d-46a5-be3c-33183889926f",
   "metadata": {},
   "outputs": [],
   "source": [
    "import hashlib"
   ]
  },
  {
   "cell_type": "code",
   "execution_count": 30,
   "id": "dd903bdb-4251-445b-ab69-ae368128963e",
   "metadata": {},
   "outputs": [],
   "source": [
    "import openai"
   ]
  },
  {
   "cell_type": "markdown",
   "id": "22eda8ef-38be-4510-b7b8-917a3fdd57c3",
   "metadata": {},
   "source": [
    "## Define helpers"
   ]
  },
  {
   "cell_type": "markdown",
   "id": "7d93a239-d24f-403f-98d6-53b70cb7779e",
   "metadata": {},
   "source": [
    "You can mostly ignore this code to start with. What it does is to provide the helper method `fetch_bundle()` that will fetch all the config, data and metadata for a single Grapher chart (or indicator)."
   ]
  },
  {
   "cell_type": "code",
   "execution_count": 22,
   "id": "01aed7fd-4cef-45c6-875f-db85dbb13c82",
   "metadata": {},
   "outputs": [],
   "source": [
    "@dataclass\n",
    "class Indicator:\n",
    "    data: dict\n",
    "    metadata: dict\n",
    "\n",
    "    def to_dict(self):\n",
    "        return {\"data\": self.data, \"metadata\": self.metadata}\n",
    "\n",
    "    def to_frame(self):\n",
    "        df = pd.DataFrame.from_dict(self.data)\n",
    "        entities = pd.DataFrame.from_records(self.metadata['dimensions']['entities']['values'])\n",
    "        id_to_name = entities.set_index('id').name.to_dict()\n",
    "        df['entities'] = df.entities.apply(id_to_name.__getitem__)\n",
    "        df = df.rename(columns={'values': self.metadata.get('shortName', f'ind_{self.metadata[\"id\"]}')})\n",
    "        cols = ['entities', 'years'] + sorted([c for c in df.columns if c not in ['entities', 'years']])\n",
    "        return df[cols]\n",
    "\n",
    "\n",
    "@dataclass\n",
    "class GrapherBundle:\n",
    "    config: Optional[dict]\n",
    "    dimensions: Dict[int, Indicator]\n",
    "    origins: List[dict]\n",
    "\n",
    "    def to_json(self):\n",
    "        return json.dumps(\n",
    "            {\n",
    "                \"config\": self.config,\n",
    "                \"dimensions\": {k: i.to_dict() for k, i in self.dimensions.items()},\n",
    "                \"origins\": self.origins,\n",
    "            }\n",
    "        )\n",
    "\n",
    "    def size(self):\n",
    "        return len(self.to_json())\n",
    "\n",
    "    @property\n",
    "    def indicators(self) -> List[Indicator]:\n",
    "        return list(self.dimensions.values())\n",
    "\n",
    "    def to_frame(self):\n",
    "        df = None\n",
    "        for i in self.indicators:\n",
    "            to_merge = i.to_frame()\n",
    "            if df is None:\n",
    "                df = to_merge\n",
    "            else:\n",
    "                df = pd.merge(df, to_merge, how='outer', on=['entities', 'years'])\n",
    "        return df\n",
    "\n",
    "    def __repr__(self):\n",
    "        return f'GrapherBundle(config={self.config}, dimensions=..., origins=...)'\n",
    "\n",
    "def fetch_grapher_config(slug):\n",
    "    resp = requests.get(f\"https://ourworldindata.org/grapher/{slug}\")\n",
    "    resp.raise_for_status()\n",
    "    return json.loads(resp.content.decode(\"utf-8\").split(\"//EMBEDDED_JSON\")[1])\n",
    "\n",
    "\n",
    "def fetch_dimension(id: int) -> Indicator:\n",
    "    data = requests.get(\n",
    "        f\"https://api.ourworldindata.org/v1/indicators/{id}.data.json\"\n",
    "    ).json()\n",
    "    metadata = requests.get(\n",
    "        f\"https://api.ourworldindata.org/v1/indicators/{id}.metadata.json\"\n",
    "    ).json()\n",
    "    return Indicator(data, metadata)\n",
    "\n",
    "\n",
    "def fetch_bundle(\n",
    "    slug: Optional[str] = None, indicator_id: Optional[int] = None\n",
    ") -> GrapherBundle:\n",
    "    if slug:\n",
    "        config = fetch_grapher_config(slug)\n",
    "        indicator_ids = [d[\"variableId\"] for d in config[\"dimensions\"]]\n",
    "    else:\n",
    "        print(f\"Fetching indicator {indicator_id}\")\n",
    "        config = None\n",
    "        indicator_ids = [indicator_id]\n",
    "    dimensions = {\n",
    "        indicator_id: fetch_dimension(indicator_id) for indicator_id in indicator_ids\n",
    "    }\n",
    "    origins = []\n",
    "    for d in dimensions.values():\n",
    "        if d.metadata.get(\"origins\"):\n",
    "            origins.append(d.metadata.pop(\"origins\"))\n",
    "    return GrapherBundle(config, dimensions, origins)"
   ]
  },
  {
   "cell_type": "markdown",
   "id": "7ffc9b8b-0267-40ea-a1e8-bd811166ce39",
   "metadata": {},
   "source": [
    "## Test data fetching\n",
    "\n",
    "Let's check to see how it works."
   ]
  },
  {
   "cell_type": "code",
   "execution_count": 23,
   "id": "b9b63bb2-dbd9-4111-a2c1-bcdce0e5302c",
   "metadata": {},
   "outputs": [
    {
     "data": {
      "text/plain": [
       "GrapherBundle(config={'id': 4659, 'map': {'time': 'latest', 'colorScale': {'baseColorScheme': 'GnBu', 'binningStrategy': 'manual', 'customNumericValues': [1000, 2000, 5000, 10000, 20000, 50000, 100000], 'binningStrategyBinCount': 9}, 'columnSlug': '417485'}, 'tab': 'map', 'note': 'This data is expressed in [international-$](#dod:int_dollar_abbreviation) at 2011 prices.', 'slug': 'gdp-per-capita-maddison', 'title': 'GDP per capita', 'yAxis': {'min': 0, 'canChangeScaleType': True}, '$schema': 'https://files.ourworldindata.org/schemas/grapher-schema.004.json', 'version': 45, 'subtitle': 'This data is adjusted for inflation and for differences in the cost of living between countries.', 'hasMapTab': True, 'originUrl': 'https://ourworldindata.org/economic-growth', 'dimensions': [{'display': {'tolerance': 5, 'includeInTable': True}, 'property': 'y', 'variableId': 417485}], 'isPublished': True, 'variantName': 'Maddison Project Database, constant international-$', 'hideRelativeToggle': False, 'selectedEntityNames': ['World', 'South and South-East Asia (MPD)', 'Sub-Saharan Africa (MPD)', 'Western Europe (MPD)', 'Eastern Europe (MPD)', 'Latin America (MPD)', 'Middle East (MPD)', 'East Asia (MPD)', 'Western offshoots (MPD)'], 'bakedGrapherURL': 'https://ourworldindata.org/grapher', 'adminBaseUrl': 'https://admin.owid.io', 'dataApiUrl': 'https://api.ourworldindata.org/v1/indicators/'}, dimensions=..., origins=...)"
      ]
     },
     "execution_count": 23,
     "metadata": {},
     "output_type": "execute_result"
    }
   ],
   "source": [
    "# fetch just one indicator\n",
    "b = fetch_bundle(slug='gdp-per-capita-maddison')\n",
    "b"
   ]
  },
  {
   "cell_type": "code",
   "execution_count": 24,
   "id": "34388530-6682-46e1-b48d-4a317841119b",
   "metadata": {},
   "outputs": [
    {
     "data": {
      "text/html": [
       "<div>\n",
       "<style scoped>\n",
       "    .dataframe tbody tr th:only-of-type {\n",
       "        vertical-align: middle;\n",
       "    }\n",
       "\n",
       "    .dataframe tbody tr th {\n",
       "        vertical-align: top;\n",
       "    }\n",
       "\n",
       "    .dataframe thead th {\n",
       "        text-align: right;\n",
       "    }\n",
       "</style>\n",
       "<table border=\"1\" class=\"dataframe\">\n",
       "  <thead>\n",
       "    <tr style=\"text-align: right;\">\n",
       "      <th></th>\n",
       "      <th>entities</th>\n",
       "      <th>years</th>\n",
       "      <th>gdp_per_capita</th>\n",
       "    </tr>\n",
       "  </thead>\n",
       "  <tbody>\n",
       "    <tr>\n",
       "      <th>0</th>\n",
       "      <td>Afghanistan</td>\n",
       "      <td>1950</td>\n",
       "      <td>1156.0000</td>\n",
       "    </tr>\n",
       "    <tr>\n",
       "      <th>1</th>\n",
       "      <td>Afghanistan</td>\n",
       "      <td>1951</td>\n",
       "      <td>1170.0000</td>\n",
       "    </tr>\n",
       "    <tr>\n",
       "      <th>2</th>\n",
       "      <td>Afghanistan</td>\n",
       "      <td>1952</td>\n",
       "      <td>1189.0000</td>\n",
       "    </tr>\n",
       "    <tr>\n",
       "      <th>3</th>\n",
       "      <td>Afghanistan</td>\n",
       "      <td>1953</td>\n",
       "      <td>1240.0000</td>\n",
       "    </tr>\n",
       "    <tr>\n",
       "      <th>4</th>\n",
       "      <td>Afghanistan</td>\n",
       "      <td>1954</td>\n",
       "      <td>1245.0000</td>\n",
       "    </tr>\n",
       "    <tr>\n",
       "      <th>...</th>\n",
       "      <td>...</td>\n",
       "      <td>...</td>\n",
       "      <td>...</td>\n",
       "    </tr>\n",
       "    <tr>\n",
       "      <th>19871</th>\n",
       "      <td>Zimbabwe</td>\n",
       "      <td>2014</td>\n",
       "      <td>1594.0000</td>\n",
       "    </tr>\n",
       "    <tr>\n",
       "      <th>19872</th>\n",
       "      <td>Zimbabwe</td>\n",
       "      <td>2015</td>\n",
       "      <td>1560.0000</td>\n",
       "    </tr>\n",
       "    <tr>\n",
       "      <th>19873</th>\n",
       "      <td>Zimbabwe</td>\n",
       "      <td>2016</td>\n",
       "      <td>1534.0000</td>\n",
       "    </tr>\n",
       "    <tr>\n",
       "      <th>19874</th>\n",
       "      <td>Zimbabwe</td>\n",
       "      <td>2017</td>\n",
       "      <td>1582.3662</td>\n",
       "    </tr>\n",
       "    <tr>\n",
       "      <th>19875</th>\n",
       "      <td>Zimbabwe</td>\n",
       "      <td>2018</td>\n",
       "      <td>1611.4052</td>\n",
       "    </tr>\n",
       "  </tbody>\n",
       "</table>\n",
       "<p>19876 rows × 3 columns</p>\n",
       "</div>"
      ],
      "text/plain": [
       "          entities  years  gdp_per_capita\n",
       "0      Afghanistan   1950       1156.0000\n",
       "1      Afghanistan   1951       1170.0000\n",
       "2      Afghanistan   1952       1189.0000\n",
       "3      Afghanistan   1953       1240.0000\n",
       "4      Afghanistan   1954       1245.0000\n",
       "...            ...    ...             ...\n",
       "19871     Zimbabwe   2014       1594.0000\n",
       "19872     Zimbabwe   2015       1560.0000\n",
       "19873     Zimbabwe   2016       1534.0000\n",
       "19874     Zimbabwe   2017       1582.3662\n",
       "19875     Zimbabwe   2018       1611.4052\n",
       "\n",
       "[19876 rows x 3 columns]"
      ]
     },
     "execution_count": 24,
     "metadata": {},
     "output_type": "execute_result"
    }
   ],
   "source": [
    "b.to_frame()"
   ]
  },
  {
   "cell_type": "code",
   "execution_count": 25,
   "id": "f5dda656-f81e-4226-8c99-e888ed37964a",
   "metadata": {},
   "outputs": [
    {
     "data": {
      "text/html": [
       "<div>\n",
       "<style scoped>\n",
       "    .dataframe tbody tr th:only-of-type {\n",
       "        vertical-align: middle;\n",
       "    }\n",
       "\n",
       "    .dataframe tbody tr th {\n",
       "        vertical-align: top;\n",
       "    }\n",
       "\n",
       "    .dataframe thead th {\n",
       "        text-align: right;\n",
       "    }\n",
       "</style>\n",
       "<table border=\"1\" class=\"dataframe\">\n",
       "  <thead>\n",
       "    <tr style=\"text-align: right;\">\n",
       "      <th></th>\n",
       "      <th>entities</th>\n",
       "      <th>years</th>\n",
       "      <th>births__sex_all__age_50_54__variant_estimates</th>\n",
       "      <th>births__sex_all__age_45_49__variant_estimates</th>\n",
       "      <th>births__sex_all__age_40_44__variant_estimates</th>\n",
       "      <th>births__sex_all__age_35_39__variant_estimates</th>\n",
       "      <th>births__sex_all__age_30_34__variant_estimates</th>\n",
       "      <th>births__sex_all__age_25_29__variant_estimates</th>\n",
       "      <th>births__sex_all__age_20_24__variant_estimates</th>\n",
       "      <th>births__sex_all__age_15_19__variant_estimates</th>\n",
       "      <th>births__sex_all__age_10_14__variant_estimates</th>\n",
       "    </tr>\n",
       "  </thead>\n",
       "  <tbody>\n",
       "    <tr>\n",
       "      <th>0</th>\n",
       "      <td>Afghanistan</td>\n",
       "      <td>1950</td>\n",
       "      <td>152.0</td>\n",
       "      <td>3787.0000</td>\n",
       "      <td>19594.0</td>\n",
       "      <td>43741.0</td>\n",
       "      <td>65730.0</td>\n",
       "      <td>85980.0</td>\n",
       "      <td>92189.00</td>\n",
       "      <td>49818.0</td>\n",
       "      <td>4312.0</td>\n",
       "    </tr>\n",
       "    <tr>\n",
       "      <th>1</th>\n",
       "      <td>Afghanistan</td>\n",
       "      <td>1951</td>\n",
       "      <td>157.0</td>\n",
       "      <td>3865.0000</td>\n",
       "      <td>19959.0</td>\n",
       "      <td>44425.0</td>\n",
       "      <td>66674.0</td>\n",
       "      <td>87531.0</td>\n",
       "      <td>94080.00</td>\n",
       "      <td>50953.0</td>\n",
       "      <td>4396.0</td>\n",
       "    </tr>\n",
       "    <tr>\n",
       "      <th>2</th>\n",
       "      <td>Afghanistan</td>\n",
       "      <td>1952</td>\n",
       "      <td>158.0</td>\n",
       "      <td>3938.0000</td>\n",
       "      <td>20417.0</td>\n",
       "      <td>45142.0</td>\n",
       "      <td>67546.0</td>\n",
       "      <td>88980.0</td>\n",
       "      <td>95550.00</td>\n",
       "      <td>52179.0</td>\n",
       "      <td>4383.0</td>\n",
       "    </tr>\n",
       "    <tr>\n",
       "      <th>3</th>\n",
       "      <td>Afghanistan</td>\n",
       "      <td>1953</td>\n",
       "      <td>161.0</td>\n",
       "      <td>4010.0002</td>\n",
       "      <td>20751.0</td>\n",
       "      <td>45803.0</td>\n",
       "      <td>68756.0</td>\n",
       "      <td>90483.0</td>\n",
       "      <td>97439.00</td>\n",
       "      <td>53106.0</td>\n",
       "      <td>4423.0</td>\n",
       "    </tr>\n",
       "    <tr>\n",
       "      <th>4</th>\n",
       "      <td>Afghanistan</td>\n",
       "      <td>1954</td>\n",
       "      <td>162.0</td>\n",
       "      <td>4038.0000</td>\n",
       "      <td>20926.0</td>\n",
       "      <td>46370.0</td>\n",
       "      <td>69592.0</td>\n",
       "      <td>92193.0</td>\n",
       "      <td>98920.00</td>\n",
       "      <td>53903.0</td>\n",
       "      <td>4310.0</td>\n",
       "    </tr>\n",
       "    <tr>\n",
       "      <th>...</th>\n",
       "      <td>...</td>\n",
       "      <td>...</td>\n",
       "      <td>...</td>\n",
       "      <td>...</td>\n",
       "      <td>...</td>\n",
       "      <td>...</td>\n",
       "      <td>...</td>\n",
       "      <td>...</td>\n",
       "      <td>...</td>\n",
       "      <td>...</td>\n",
       "      <td>...</td>\n",
       "    </tr>\n",
       "    <tr>\n",
       "      <th>18283</th>\n",
       "      <td>Zimbabwe</td>\n",
       "      <td>2017</td>\n",
       "      <td>26.0</td>\n",
       "      <td>1639.0000</td>\n",
       "      <td>13662.0</td>\n",
       "      <td>48406.0</td>\n",
       "      <td>90133.0</td>\n",
       "      <td>106452.0</td>\n",
       "      <td>131067.99</td>\n",
       "      <td>85929.0</td>\n",
       "      <td>3321.0</td>\n",
       "    </tr>\n",
       "    <tr>\n",
       "      <th>18284</th>\n",
       "      <td>Zimbabwe</td>\n",
       "      <td>2018</td>\n",
       "      <td>25.0</td>\n",
       "      <td>1707.0000</td>\n",
       "      <td>14037.0</td>\n",
       "      <td>50681.0</td>\n",
       "      <td>87776.0</td>\n",
       "      <td>105130.0</td>\n",
       "      <td>132951.00</td>\n",
       "      <td>88194.0</td>\n",
       "      <td>3280.0</td>\n",
       "    </tr>\n",
       "    <tr>\n",
       "      <th>18285</th>\n",
       "      <td>Zimbabwe</td>\n",
       "      <td>2019</td>\n",
       "      <td>28.0</td>\n",
       "      <td>1793.0000</td>\n",
       "      <td>14244.0</td>\n",
       "      <td>52091.0</td>\n",
       "      <td>84423.0</td>\n",
       "      <td>104658.0</td>\n",
       "      <td>135975.00</td>\n",
       "      <td>88507.0</td>\n",
       "      <td>3183.0</td>\n",
       "    </tr>\n",
       "    <tr>\n",
       "      <th>18286</th>\n",
       "      <td>Zimbabwe</td>\n",
       "      <td>2020</td>\n",
       "      <td>28.0</td>\n",
       "      <td>1845.0000</td>\n",
       "      <td>14509.0</td>\n",
       "      <td>53003.0</td>\n",
       "      <td>81470.0</td>\n",
       "      <td>104550.0</td>\n",
       "      <td>139791.00</td>\n",
       "      <td>88099.0</td>\n",
       "      <td>3096.0</td>\n",
       "    </tr>\n",
       "    <tr>\n",
       "      <th>18287</th>\n",
       "      <td>Zimbabwe</td>\n",
       "      <td>2021</td>\n",
       "      <td>29.0</td>\n",
       "      <td>1903.0000</td>\n",
       "      <td>15176.0</td>\n",
       "      <td>53045.0</td>\n",
       "      <td>79331.0</td>\n",
       "      <td>105480.0</td>\n",
       "      <td>144094.00</td>\n",
       "      <td>86691.0</td>\n",
       "      <td>3056.0</td>\n",
       "    </tr>\n",
       "  </tbody>\n",
       "</table>\n",
       "<p>18288 rows × 11 columns</p>\n",
       "</div>"
      ],
      "text/plain": [
       "          entities  years  births__sex_all__age_50_54__variant_estimates  \\\n",
       "0      Afghanistan   1950                                          152.0   \n",
       "1      Afghanistan   1951                                          157.0   \n",
       "2      Afghanistan   1952                                          158.0   \n",
       "3      Afghanistan   1953                                          161.0   \n",
       "4      Afghanistan   1954                                          162.0   \n",
       "...            ...    ...                                            ...   \n",
       "18283     Zimbabwe   2017                                           26.0   \n",
       "18284     Zimbabwe   2018                                           25.0   \n",
       "18285     Zimbabwe   2019                                           28.0   \n",
       "18286     Zimbabwe   2020                                           28.0   \n",
       "18287     Zimbabwe   2021                                           29.0   \n",
       "\n",
       "       births__sex_all__age_45_49__variant_estimates  \\\n",
       "0                                          3787.0000   \n",
       "1                                          3865.0000   \n",
       "2                                          3938.0000   \n",
       "3                                          4010.0002   \n",
       "4                                          4038.0000   \n",
       "...                                              ...   \n",
       "18283                                      1639.0000   \n",
       "18284                                      1707.0000   \n",
       "18285                                      1793.0000   \n",
       "18286                                      1845.0000   \n",
       "18287                                      1903.0000   \n",
       "\n",
       "       births__sex_all__age_40_44__variant_estimates  \\\n",
       "0                                            19594.0   \n",
       "1                                            19959.0   \n",
       "2                                            20417.0   \n",
       "3                                            20751.0   \n",
       "4                                            20926.0   \n",
       "...                                              ...   \n",
       "18283                                        13662.0   \n",
       "18284                                        14037.0   \n",
       "18285                                        14244.0   \n",
       "18286                                        14509.0   \n",
       "18287                                        15176.0   \n",
       "\n",
       "       births__sex_all__age_35_39__variant_estimates  \\\n",
       "0                                            43741.0   \n",
       "1                                            44425.0   \n",
       "2                                            45142.0   \n",
       "3                                            45803.0   \n",
       "4                                            46370.0   \n",
       "...                                              ...   \n",
       "18283                                        48406.0   \n",
       "18284                                        50681.0   \n",
       "18285                                        52091.0   \n",
       "18286                                        53003.0   \n",
       "18287                                        53045.0   \n",
       "\n",
       "       births__sex_all__age_30_34__variant_estimates  \\\n",
       "0                                            65730.0   \n",
       "1                                            66674.0   \n",
       "2                                            67546.0   \n",
       "3                                            68756.0   \n",
       "4                                            69592.0   \n",
       "...                                              ...   \n",
       "18283                                        90133.0   \n",
       "18284                                        87776.0   \n",
       "18285                                        84423.0   \n",
       "18286                                        81470.0   \n",
       "18287                                        79331.0   \n",
       "\n",
       "       births__sex_all__age_25_29__variant_estimates  \\\n",
       "0                                            85980.0   \n",
       "1                                            87531.0   \n",
       "2                                            88980.0   \n",
       "3                                            90483.0   \n",
       "4                                            92193.0   \n",
       "...                                              ...   \n",
       "18283                                       106452.0   \n",
       "18284                                       105130.0   \n",
       "18285                                       104658.0   \n",
       "18286                                       104550.0   \n",
       "18287                                       105480.0   \n",
       "\n",
       "       births__sex_all__age_20_24__variant_estimates  \\\n",
       "0                                           92189.00   \n",
       "1                                           94080.00   \n",
       "2                                           95550.00   \n",
       "3                                           97439.00   \n",
       "4                                           98920.00   \n",
       "...                                              ...   \n",
       "18283                                      131067.99   \n",
       "18284                                      132951.00   \n",
       "18285                                      135975.00   \n",
       "18286                                      139791.00   \n",
       "18287                                      144094.00   \n",
       "\n",
       "       births__sex_all__age_15_19__variant_estimates  \\\n",
       "0                                            49818.0   \n",
       "1                                            50953.0   \n",
       "2                                            52179.0   \n",
       "3                                            53106.0   \n",
       "4                                            53903.0   \n",
       "...                                              ...   \n",
       "18283                                        85929.0   \n",
       "18284                                        88194.0   \n",
       "18285                                        88507.0   \n",
       "18286                                        88099.0   \n",
       "18287                                        86691.0   \n",
       "\n",
       "       births__sex_all__age_10_14__variant_estimates  \n",
       "0                                             4312.0  \n",
       "1                                             4396.0  \n",
       "2                                             4383.0  \n",
       "3                                             4423.0  \n",
       "4                                             4310.0  \n",
       "...                                              ...  \n",
       "18283                                         3321.0  \n",
       "18284                                         3280.0  \n",
       "18285                                         3183.0  \n",
       "18286                                         3096.0  \n",
       "18287                                         3056.0  \n",
       "\n",
       "[18288 rows x 11 columns]"
      ]
     },
     "execution_count": 25,
     "metadata": {},
     "output_type": "execute_result"
    }
   ],
   "source": [
    "# fetch a stacked chart that uses a bunch of indicators\n",
    "fetch_bundle(slug='births-by-age-of-mother').to_frame()"
   ]
  },
  {
   "cell_type": "code",
   "execution_count": 26,
   "id": "88d1051d-c831-44f2-a116-b2ce81d6ed00",
   "metadata": {},
   "outputs": [],
   "source": [
    "import shelve"
   ]
  },
  {
   "cell_type": "code",
   "execution_count": 27,
   "id": "431fff0d-3116-4800-a8b9-8eebce3ffa57",
   "metadata": {},
   "outputs": [],
   "source": [
    "def fetch_cached(slug=None, indicator_id=None):\n",
    "    key = f'{slug}::{indicator_id}'\n",
    "    with shelve.open('cache.db') as shelf:\n",
    "        if key not in shelf:\n",
    "            b = fetch_bundle(slug=slug, indicator_id=indicator_id)\n",
    "            shelf[key] = b\n",
    "        \n",
    "        return shelf[key]"
   ]
  },
  {
   "cell_type": "markdown",
   "id": "e46d10f4-d9c7-47d5-9e77-f96cd34529b0",
   "metadata": {},
   "source": [
    "## Finding data\n",
    "\n",
    "Let's make a helper that "
   ]
  },
  {
   "cell_type": "code",
   "execution_count": 35,
   "id": "c3e3eb3e-06e2-4771-b0fa-f9db41a25d1e",
   "metadata": {},
   "outputs": [],
   "source": [
    "slug_whitelist = set(json.load(open('slugs.json')))"
   ]
  },
  {
   "cell_type": "code",
   "execution_count": null,
   "id": "79126b5c-4a14-400a-92be-e730eb1fd44f",
   "metadata": {},
   "outputs": [],
   "source": [
    "last_slug = 'life-expectancy'"
   ]
  },
  {
   "cell_type": "code",
   "execution_count": 76,
   "id": "39f39fa0-9327-4ed9-9edf-577862d51b7c",
   "metadata": {},
   "outputs": [
    {
     "data": {
      "application/vnd.jupyter.widget-view+json": {
       "model_id": "6dc2eac43c764048b5ec52854e4d8932",
       "version_major": 2,
       "version_minor": 0
      },
      "text/plain": [
       "interactive(children=(Text(value='life-expectancy', description='slug'), Output()), _dom_classes=('widget-inte…"
      ]
     },
     "metadata": {},
     "output_type": "display_data"
    }
   ],
   "source": [
    "@interact(slug=last_slug)\n",
    "def find_data(slug=None):\n",
    "    if not slug:\n",
    "        return\n",
    "\n",
    "    last_slug = slug\n",
    "    \n",
    "    if slug not in slug_whitelist:\n",
    "        matches = sorted([s for s in slug_whitelist if s.startswith(slug)])[:5]\n",
    "        if matches:\n",
    "            print('\\n'.join(matches))\n",
    "        else:\n",
    "            print('(not found)')\n",
    "        return\n",
    "    \n",
    "    b = fetch_cached(slug=slug)\n",
    "    return b.to_frame()"
   ]
  },
  {
   "cell_type": "markdown",
   "id": "9f2c71f9-020b-440c-8411-c24b3fba2701",
   "metadata": {},
   "source": [
    "## Asking ChatGPT"
   ]
  },
  {
   "cell_type": "code",
   "execution_count": 31,
   "id": "5c372122-f1e1-48b8-89e9-069900bb7721",
   "metadata": {},
   "outputs": [],
   "source": [
    "client = openai.Client()"
   ]
  },
  {
   "cell_type": "code",
   "execution_count": 32,
   "id": "d7da591b-cfc1-4291-9283-a3cb0d931b11",
   "metadata": {},
   "outputs": [],
   "source": [
    "MODEL = 'gpt-4-turbo'"
   ]
  },
  {
   "cell_type": "code",
   "execution_count": 33,
   "id": "d1063af7-56c7-4539-961e-1892b43e6e21",
   "metadata": {},
   "outputs": [],
   "source": [
    "def gpt_response(message: str, model: str = MODEL) -> str:\n",
    "    return client.chat.completions.create(\n",
    "      model=model,\n",
    "      messages=[{\"role\": \"user\", \"content\": message}],\n",
    "    ).choices[0].message.content"
   ]
  },
  {
   "cell_type": "code",
   "execution_count": 34,
   "id": "56add898-e878-4e5b-bc5a-1c61d363a8a3",
   "metadata": {},
   "outputs": [
    {
     "name": "stdout",
     "output_type": "stream",
     "text": [
      "Cat prowls, eyes a bird—  \n",
      "Leaps high, poised with grace, but lands  \n",
      "In a dog's bath tub.\n"
     ]
    }
   ],
   "source": [
    "print(gpt_response('Tell me a funny story in a single haiku with a surprising twist'))"
   ]
  },
  {
   "cell_type": "code",
   "execution_count": 63,
   "id": "91c5e1f0-5b24-403b-9878-46de929d7ee5",
   "metadata": {},
   "outputs": [],
   "source": [
    "def gpt_cached(message: str, model: str = MODEL) -> str:\n",
    "    with shelve.open('cache.db') as shelf:\n",
    "        key = hashlib.md5(f'{model}:::{message}'.encode('utf8')).hexdigest()\n",
    "        if key in shelf:\n",
    "            return shelf[key]\n",
    "\n",
    "        resp = gpt_response(message, model)\n",
    "        shelf[key] = resp\n",
    "        return resp"
   ]
  },
  {
   "cell_type": "markdown",
   "id": "9ceca38e-2b40-4fa9-a99f-ded90c81d222",
   "metadata": {},
   "source": [
    "## Ask ChatGPT about the data"
   ]
  },
  {
   "cell_type": "markdown",
   "id": "aad80b81-dfac-457a-b27f-f40c2e4f86ae",
   "metadata": {},
   "source": [
    "The biggest problem is that we can't look at all the data at once, just one country at a time."
   ]
  },
  {
   "cell_type": "markdown",
   "id": "5a18f347-1b4e-412e-a25a-14ae396c6dfe",
   "metadata": {},
   "source": [
    "## Prompt and data format"
   ]
  },
  {
   "cell_type": "code",
   "execution_count": 95,
   "id": "17e989ae-8469-4e34-b28b-9f16022245f8",
   "metadata": {},
   "outputs": [],
   "source": [
    "slug = 'life-expectancy'"
   ]
  },
  {
   "cell_type": "code",
   "execution_count": 96,
   "id": "3597faaf-2e15-4769-a028-02aedd09974f",
   "metadata": {},
   "outputs": [],
   "source": [
    "last_entity = 'Sweden'"
   ]
  },
  {
   "cell_type": "code",
   "execution_count": 101,
   "id": "36786fb6-2827-42c5-880a-0eb089656ef0",
   "metadata": {},
   "outputs": [
    {
     "data": {
      "application/vnd.jupyter.widget-view+json": {
       "model_id": "3b2e3436ae8e4d518f09cd4c9bbb3f77",
       "version_major": 2,
       "version_minor": 0
      },
      "text/plain": [
       "interactive(children=(Dropdown(description='entity', options=('Afghanistan', 'Africa', 'Albania', 'Algeria', '…"
      ]
     },
     "metadata": {},
     "output_type": "display_data"
    }
   ],
   "source": [
    "PROMPT = '''\n",
    "Summarise the following data for {entity} from the chart called {slug}?\n",
    "\n",
    "{data}\n",
    "\n",
    "What countries would be best to compare it to for this metric?\n",
    "'''\n",
    "\n",
    "b = fetch_cached(slug=slug)\n",
    "df = b.to_frame()\n",
    "\n",
    "@interact(entity=Dropdown(options=df.entities.unique(), value=last_entity))\n",
    "def please_summarize(entity=None):\n",
    "    global last_entity\n",
    "    if not entity:\n",
    "        return\n",
    "\n",
    "    last_entity = entity\n",
    "\n",
    "    df_e = df[df.entities == entity].drop(columns=['entities'])\n",
    "    \n",
    "    prompt = PROMPT.format(data=df_e.to_dict(orient='list'), entity=entity, slug=slug)\n",
    "    sh.pbcopy(_in=prompt)\n",
    "\n",
    "    if len(prompt) >= 128000:\n",
    "        print(f'Prompt length: {len(prompt)}')\n",
    "        print(f'        Limit: 128000')\n",
    "    print(prompt[:3000] + '...')"
   ]
  },
  {
   "cell_type": "markdown",
   "id": "62ed1fbf-ed1c-4afb-a834-042daa3868c0",
   "metadata": {},
   "source": [
    "After running this, the full prompt is in your clipboard. Paste it into ChatGPT to see its response."
   ]
  },
  {
   "cell_type": "markdown",
   "id": "a070fc6a-a9ca-43e1-88ba-7e5ad1d39c2b",
   "metadata": {},
   "source": [
    "## Things to try"
   ]
  },
  {
   "cell_type": "markdown",
   "id": "16d1b836-6524-4757-9b4f-a3f02898a815",
   "metadata": {},
   "source": [
    "What types of prompts work well?\n",
    "- Try asking it to think step by step, then give an answer after '---'\n",
    "- Try giving a lot of guidance\n",
    "- Try giving little to no guidance\n",
    "- Try comparing a country to its peers, income group or neighbours (see: `peers.json`)"
   ]
  }
 ],
 "metadata": {
  "kernelspec": {
   "display_name": "Python 3 (ipykernel)",
   "language": "python",
   "name": "python3"
  },
  "language_info": {
   "codemirror_mode": {
    "name": "ipython",
    "version": 3
   },
   "file_extension": ".py",
   "mimetype": "text/x-python",
   "name": "python",
   "nbconvert_exporter": "python",
   "pygments_lexer": "ipython3",
   "version": "3.12.2"
  }
 },
 "nbformat": 4,
 "nbformat_minor": 5
}
