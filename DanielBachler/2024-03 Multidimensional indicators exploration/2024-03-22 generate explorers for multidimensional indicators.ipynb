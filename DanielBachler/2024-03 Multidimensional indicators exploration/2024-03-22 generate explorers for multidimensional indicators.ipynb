{
 "cells": [
  {
   "cell_type": "markdown",
   "metadata": {},
   "source": [
    "## Generate Explorers from Dimensions column information on the variables table|\n",
    "\n",
    "A part of the multdimensional indicator investigation of cycle 2024.2 was to check if the garden\n",
    "datasets that we currently have could relatively easily be turned into \"small explorers\".\n",
    "\n",
    "When we have dataframes in garden that have breakdowns that go beyond country and year, e.g. age\n",
    "brackets, sex/gender, then we slice these up when we export them into graphers datamodel (i.e. when\n",
    "we create indicatorid.data.json files and write entries in the variables table in our MySQL\n",
    "database) - E.g. a dataframe that has 10 age groups and an indicator \"cancer deaths\" could be\n",
    "turned into 10 indicators like \"cancer deaths - ages 0-9\". When we do this slicing, we also store a\n",
    "bit of information as a json blob in the dimensions column of the variables table for these slices\n",
    "that can help us restore the original structure.\n",
    "\n",
    "This notebook investigates what it would look like if we used this information to create indictor\n",
    "based explorers for each of these indicators.\n",
    "\n",
    "The result is about 900 explorers, many of which only have one dropdown with 3 values (e.g.\n",
    "\"rural\", \"urban\", \"rural and urban\"). The conclusion of this notebook is that while this works in theory, garden dataframes and columns would still have to be authored in a very specific way to work well as explorers - which means that probably just making indicator based explorers easier to author is more useful than requiring a very specific data layout in our dataframes and auto-generating explorers from that.\n",
    "\n",
    "Here is an example of an explorer that was constructed in this way:\n",
    "\n",
    "```\n",
    "explorerTitle    15-19 years old, current drinkers (%) - Sex: trans\n",
    "selection        World\n",
    "\n",
    "graphers\n",
    "    sex Dropdown    yVariableIds\n",
    "    both sexes      821603\n",
    "    female          821604\n",
    "    male            821605\n",
    "```"
   ]
  },
  {
   "cell_type": "code",
   "execution_count": 1,
   "metadata": {},
   "outputs": [],
   "source": [
    "import pandas as pd\n",
    "import os\n",
    "import json\n",
    "\n",
    "pd.set_option('display.max_colwidth', None)"
   ]
  },
  {
   "cell_type": "markdown",
   "metadata": {},
   "source": [
    "The code below is commented out because it documents the SQL query that was used to get the information from the MySQL database which requires DB access to be configured. The result of this\n",
    "query was saved into the \"variables_with_dimensions.parquet\" file which is loaded below."
   ]
  },
  {
   "cell_type": "code",
   "execution_count": 5,
   "metadata": {},
   "outputs": [
    {
     "name": "stderr",
     "output_type": "stream",
     "text": [
      "C:\\Users\\danyx\\.ipython\\profile_default\\startup\\03-mysql.py:94: UserWarning: pandas only supports SQLAlchemy connectable (engine/connection) or database string URI or sqlite3 DBAPI2 connection. Other DBAPI2 objects are not tested. Please consider using SQLAlchemy.\n",
      "  df = pd.read_sql(cell, self.client)\n"
     ]
    }
   ],
   "source": [
    "# %%mysql -o all\n",
    "\n",
    "# select id, name, dimensions, catalogPath, datasetId from variables where dimensions is not null"
   ]
  },
  {
   "cell_type": "code",
   "execution_count": null,
   "metadata": {},
   "outputs": [],
   "source": [
    "# all.to_parquet(\"variables_with_dimensions.parquet\")"
   ]
  },
  {
   "cell_type": "code",
   "execution_count": 2,
   "metadata": {},
   "outputs": [],
   "source": [
    "all = pd.read_parquet(\"variables_with_dimensions.parquet\")"
   ]
  },
  {
   "cell_type": "markdown",
   "metadata": {},
   "source": [
    "Define a bunch of types and helper functions"
   ]
  },
  {
   "cell_type": "code",
   "execution_count": 3,
   "metadata": {},
   "outputs": [],
   "source": [
    "from dataclasses import dataclass\n",
    "\n",
    "@dataclass\n",
    "class Indicator:\n",
    "    id: int\n",
    "    catalogPath: str\n",
    "    catalogPathTruncated: str\n",
    "    dimensions: dict\n",
    "    name: str\n",
    "    datasetId: int"
   ]
  },
  {
   "cell_type": "code",
   "execution_count": 4,
   "metadata": {},
   "outputs": [],
   "source": [
    "from typing import List\n",
    "\n",
    "\n",
    "def extract_dimensions(indicators : List[Indicator]):\n",
    "    \"\"\" Extracts all dimensions from a list of indicators. Returns a dictionary with the dimension\n",
    "        name as key and a set of all values as value.\"\"\"\n",
    "    dimensions = {}\n",
    "    for indicator in indicators:\n",
    "        for filter in indicator.dimensions[\"filters\"]:\n",
    "            name = filter['name']\n",
    "            value = filter['value']\n",
    "            if name not in dimensions:\n",
    "                dimensions[name] = set()\n",
    "            dimensions[name].add(value)\n",
    "    return dimensions"
   ]
  },
  {
   "cell_type": "code",
   "execution_count": 5,
   "metadata": {},
   "outputs": [],
   "source": [
    "def get_shared_name_fragment(indicators : List[Indicator]):\n",
    "    \"\"\" Given a list of indicators that are part of the same logical mutlidimensional one,\n",
    "        extract the common prefix of their names which we'll use as the name of the explorer.\"\"\"\n",
    "    names = [indicator.name for indicator in indicators]\n",
    "    return os.path.commonprefix(names)"
   ]
  },
  {
   "cell_type": "code",
   "execution_count": 6,
   "metadata": {},
   "outputs": [],
   "source": [
    "@dataclass\n",
    "class Explorer:\n",
    "    shared_name_fragment: str\n",
    "    num_indicators: int\n",
    "    indicator_ids: List[int]\n",
    "    num_dimensions: int\n",
    "    non_overlapping_dimensions: bool\n",
    "    lines: List[List[str]]"
   ]
  },
  {
   "cell_type": "markdown",
   "metadata": {},
   "source": [
    "Below is the function that is the workhorse of this notebook - it takes a list of indicators that belong together and creates an indicator based explorer config from it (in the form of a list of list of strings (lines of cells), not yet in TSV form)"
   ]
  },
  {
   "cell_type": "code",
   "execution_count": 7,
   "metadata": {},
   "outputs": [],
   "source": [
    "def create_explorer(indicators : List[Indicator]):\n",
    "    lines : List[List[str]] = []\n",
    "    shared_name_fragment = get_shared_name_fragment(indicators)\n",
    "    lines.append([\"explorerTitle\", shared_name_fragment])\n",
    "    lines.append([\"selection\", \"World\"])\n",
    "    lines.append([])\n",
    "    lines.append([\"graphers\"])\n",
    "    dimensions = extract_dimensions(indicators)\n",
    "    # Dimensions are only eligible for an explorer control if they have at least 2 values\n",
    "    dimensions_to_show = { key: val for key, val in dimensions.items() if len(dimensions[key]) > 1}\n",
    "    header = [\"\"]\n",
    "    for dimension_key, dimension_set in dimensions_to_show.items():\n",
    "        label = f\"{dimension_key} Checkbox\" if len(dimension_set) == 2 else f\"{dimension_key} Dropdown\"\n",
    "        header.append(label)\n",
    "    header.append(\"yVariableIds\")\n",
    "    header.append(\"hasMapTab\")\n",
    "    lines.append(header)\n",
    "\n",
    "    non_overlapping_dimensions = False\n",
    "    for i in indicators:\n",
    "        line = [\"\"]\n",
    "        filters = { item[\"name\"]: item[\"value\"] for item in i.dimensions[\"filters\"]}\n",
    "        for dimension_key, dimension_set in dimensions_to_show.items():\n",
    "            dimension_value = str(filters.get(dimension_key, \"\"))\n",
    "            line.append(dimension_value)\n",
    "            if dimension_value == \"\":\n",
    "                non_overlapping_dimensions = True\n",
    "        line.append(str(i.id))\n",
    "        line.append(\"true\")\n",
    "        lines.append(line)\n",
    "\n",
    "    lines.append([])\n",
    "    lines.append([\"columns\"])\n",
    "    lines.append([\"\", \"variableId\"])\n",
    "    for i in indicators:\n",
    "        lines.append([\"\", str(i.id)])\n",
    "\n",
    "    return Explorer(shared_name_fragment, len(indicators), [i.id for i in indicators], len(dimensions_to_show), non_overlapping_dimensions, lines)\n"
   ]
  },
  {
   "cell_type": "code",
   "execution_count": 8,
   "metadata": {},
   "outputs": [],
   "source": [
    "def lines_to_tsv(lines):\n",
    "    return \"\\n\".join([\"\\t\".join(line) for line in lines])"
   ]
  },
  {
   "cell_type": "code",
   "execution_count": 9,
   "metadata": {},
   "outputs": [],
   "source": [
    "indicators = []\n",
    "\n",
    "for i, row in all.iterrows():\n",
    "    dimensions = json.loads(row.dimensions)\n",
    "    indicators.append(Indicator(row[\"id\"], row[\"catalogPath\"], row[\"catalogPath\"].split(\"__\")[0] , dimensions, row[\"name\"], row[\"datasetId\"]))"
   ]
  },
  {
   "cell_type": "markdown",
   "metadata": {},
   "source": [
    "Group the indicators by dataset id + originalShortName. This is the grouping that we will turn into one small explorer."
   ]
  },
  {
   "cell_type": "code",
   "execution_count": 10,
   "metadata": {},
   "outputs": [],
   "source": [
    "grouped = dict()\n",
    "for i in indicators:\n",
    "    key = f\"{i.datasetId}-{i.dimensions['originalShortName']}\"\n",
    "    if key not in grouped:\n",
    "        grouped[key] = []\n",
    "    grouped[key].append(i)\n"
   ]
  },
  {
   "cell_type": "markdown",
   "metadata": {},
   "source": [
    "Display an example indicator group"
   ]
  },
  {
   "cell_type": "code",
   "execution_count": 11,
   "metadata": {},
   "outputs": [
    {
     "data": {
      "text/plain": [
       "[Indicator(id=520001, catalogPath='grapher/un/2022-07-11/un_wpp/growth_rate#growth_rate__sex_all__age_all__variant_constant_fertility', catalogPathTruncated='grapher/un/2022-07-11/un_wpp/growth_rate#growth_rate', dimensions={'filters': [{'name': 'sex', 'value': 'all'}, {'name': 'age', 'value': 'all'}, {'name': 'variant', 'value': 'constant fertility'}], 'originalName': 'Growth rate', 'originalShortName': 'growth_rate'}, name='Growth rate - Sex: all - Age: all - Variant: constant fertility', datasetId=5743),\n",
       " Indicator(id=520002, catalogPath='grapher/un/2022-07-11/un_wpp/growth_rate#growth_rate__sex_all__age_all__variant_low', catalogPathTruncated='grapher/un/2022-07-11/un_wpp/growth_rate#growth_rate', dimensions={'filters': [{'name': 'sex', 'value': 'all'}, {'name': 'age', 'value': 'all'}, {'name': 'variant', 'value': 'low'}], 'originalName': 'Growth rate', 'originalShortName': 'growth_rate'}, name='Growth rate - Sex: all - Age: all - Variant: low', datasetId=5743),\n",
       " Indicator(id=520004, catalogPath='grapher/un/2022-07-11/un_wpp/growth_rate#growth_rate__sex_all__age_all__variant_high', catalogPathTruncated='grapher/un/2022-07-11/un_wpp/growth_rate#growth_rate', dimensions={'filters': [{'name': 'sex', 'value': 'all'}, {'name': 'age', 'value': 'all'}, {'name': 'variant', 'value': 'high'}], 'originalName': 'Growth rate', 'originalShortName': 'growth_rate'}, name='Growth rate - Sex: all - Age: all - Variant: high', datasetId=5743),\n",
       " Indicator(id=520005, catalogPath='grapher/un/2022-07-11/un_wpp/growth_rate#growth_rate__sex_all__age_all__variant_estimates', catalogPathTruncated='grapher/un/2022-07-11/un_wpp/growth_rate#growth_rate', dimensions={'filters': [{'name': 'sex', 'value': 'all'}, {'name': 'age', 'value': 'all'}, {'name': 'variant', 'value': 'estimates'}], 'originalName': 'Growth rate', 'originalShortName': 'growth_rate'}, name='Growth rate - Sex: all - Age: all - Variant: estimates', datasetId=5743),\n",
       " Indicator(id=520006, catalogPath='grapher/un/2022-07-11/un_wpp/growth_rate#growth_rate__sex_all__age_all__variant_medium', catalogPathTruncated='grapher/un/2022-07-11/un_wpp/growth_rate#growth_rate', dimensions={'filters': [{'name': 'sex', 'value': 'all'}, {'name': 'age', 'value': 'all'}, {'name': 'variant', 'value': 'medium'}], 'originalName': 'Growth rate', 'originalShortName': 'growth_rate'}, name='Growth rate - Sex: all - Age: all - Variant: medium', datasetId=5743)]"
      ]
     },
     "execution_count": 11,
     "metadata": {},
     "output_type": "execute_result"
    }
   ],
   "source": [
    "grouped[\"5743-growth_rate\"]"
   ]
  },
  {
   "cell_type": "markdown",
   "metadata": {},
   "source": [
    "How many indicators will be disregarded because they are a group size of one?"
   ]
  },
  {
   "cell_type": "code",
   "execution_count": 12,
   "metadata": {},
   "outputs": [
    {
     "data": {
      "text/plain": [
       "142"
      ]
     },
     "execution_count": 12,
     "metadata": {},
     "output_type": "execute_result"
    }
   ],
   "source": [
    "len([ g for g in grouped if len(grouped[g]) == 1])"
   ]
  },
  {
   "cell_type": "markdown",
   "metadata": {},
   "source": [
    "Finally create explorer configs for all indicator groups with more than one item and save the resulting explorer config into the explorers subdirectory.\n",
    "\n",
    "Also save a summary.csv file with a bit of information like how many indicators each explorer has, how many dimensions and if the dimensions are non-overlapping (i.e. that there is more than one dimension but we don't have all permutations available - this can happen if we have breakdown by sex and breakdown by age indivdually but not the combinations of age x sex) "
   ]
  },
  {
   "cell_type": "code",
   "execution_count": 13,
   "metadata": {},
   "outputs": [],
   "source": [
    "from pathlib import Path\n",
    "\n",
    "\n",
    "def save_explorer(indicators, filename):\n",
    "    explorer = create_explorer(indicators)\n",
    "    tsv_content = lines_to_tsv(explorer.lines)\n",
    "    with open(filename, \"w\") as f:\n",
    "        f.write(tsv_content)\n",
    "    return explorer\n",
    "\n",
    "summaries = []\n",
    "Path(\"explorers\").mkdir(exist_ok=True)\n",
    "for key, indicators in grouped.items():\n",
    "    if len(indicators) > 1:\n",
    "        short_name = indicators[0].dimensions[\"originalShortName\"]\n",
    "        filename = f\"explorers/{short_name}.explorer.tsv\"\n",
    "        explorer = save_explorer(indicators, filename)\n",
    "        summaries.append({\"filename\": f\"{key}.explorer.tsv\", \"shared_name_fragment\": explorer.shared_name_fragment, \"num_indicators\": explorer.num_indicators, \"num_dimensions\": explorer.num_dimensions, \"non_overlapping_dimensions\": explorer.non_overlapping_dimensions})\n",
    "# write the summaries into a csv file called explorers/summaries.csv\n",
    "summary_df = pd.DataFrame(summaries)\n",
    "summary_df.to_csv(\"explorers/summary.csv\", index=False)\n"
   ]
  }
 ],
 "metadata": {
  "kernelspec": {
   "display_name": ".venv",
   "language": "python",
   "name": "python3"
  },
  "language_info": {
   "codemirror_mode": {
    "name": "ipython",
    "version": 3
   },
   "file_extension": ".py",
   "mimetype": "text/x-python",
   "name": "python",
   "nbconvert_exporter": "python",
   "pygments_lexer": "ipython3",
   "version": "3.12.0"
  }
 },
 "nbformat": 4,
 "nbformat_minor": 2
}
