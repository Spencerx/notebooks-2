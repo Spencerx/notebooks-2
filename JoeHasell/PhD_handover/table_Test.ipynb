{
 "cells": [
  {
   "cell_type": "code",
   "execution_count": 10,
   "metadata": {},
   "outputs": [],
   "source": [
    "\n",
    "from plotnine import *\n",
    "import plotly.express as px\n",
    "import pandas as pd\n",
    "import numpy as np\n",
    "from IPython.display import display, HTML, IFrame, Markdown\n",
    "import dataframe_image as dfi\n",
    "\n",
    "from html2image import Html2Image\n",
    "\n",
    "from G_functions_for_figures_and_tables import * \n",
    "\n",
    "pd.set_option('display.max_rows', None)\n",
    "pd.options.display.max_columns = None\n",
    "pd.set_option('display.colheader_justify', 'center')\n"
   ]
  },
  {
   "cell_type": "code",
   "execution_count": 11,
   "metadata": {},
   "outputs": [],
   "source": [
    "\n",
    "fp = 'data/clean/pip.csv'\n",
    "        \n",
    "df_pip = pd.read_csv(fp)\n",
    "\n",
    "\n",
    "fp = 'data/clean/wid.csv'\n",
    "\n",
    "df_wid = pd.read_csv(fp)\n",
    "\n",
    "fp = 'data/clean/lis.csv'\n",
    "\n",
    "df_lis = pd.read_csv(fp)\n",
    "\n",
    "\n",
    "fp = 'data/clean/region_mapping.csv'\n",
    "\n",
    "df_regions = pd.read_csv(fp)\n",
    "\n",
    "\n",
    "fp = 'data/clean/population.csv'\n",
    "\n",
    "df_pop = pd.read_csv(fp)\n",
    "\n",
    "fp = 'data/clean/region_population.csv'\n",
    "\n",
    "df_pop_regions = pd.read_csv(fp)\n",
    "\n"
   ]
  },
  {
   "cell_type": "code",
   "execution_count": 12,
   "metadata": {},
   "outputs": [],
   "source": [
    "# Gather data into dictionary\n",
    "source_dfs = {\n",
    "    \"PIP\": df_pip,\n",
    "    \"WID\": df_wid,\n",
    "    \"LIS\": df_lis\n",
    "    }"
   ]
  },
  {
   "cell_type": "code",
   "execution_count": 13,
   "metadata": {},
   "outputs": [],
   "source": [
    "tolerance_lookup =  {\n",
    "                'var_search_term': [\n",
    "                    'Gini',\n",
    "                    'Top 1pc share', \n",
    "                    'Top 10pc share',\n",
    "                    'Bottom 50pc share'],\n",
    "                'var_tolerance': [\n",
    "                    1,\n",
    "                    1,\n",
    "                    1,\n",
    "                    1\n",
    "                ]\n",
    "            }"
   ]
  },
  {
   "cell_type": "code",
   "execution_count": 14,
   "metadata": {},
   "outputs": [],
   "source": [
    "def make_selection_msg(reference_vals,max_dist_from_refs,all_metrics_requirement,selected_vars):\n",
    "    msg = f'{reference_vals[0]} vs {reference_vals[1]} (+/- {max_dist_from_refs} years)'\n",
    "\n",
    "    if len(selected_vars)>1:\n",
    "        if all_metrics_requirement:\n",
    "            msg = f'{msg} – Matched countries only'\n",
    "        else:\n",
    "            msg = f'{msg} – All available countries' \n",
    "\n",
    "    return(msg)"
   ]
  },
  {
   "cell_type": "code",
   "execution_count": 15,
   "metadata": {},
   "outputs": [],
   "source": [
    "# Set-up to compare WID and PIP top 10% share, all countries\n",
    "reference_vals = [1995, 2015]\n",
    "max_dist_from_refs = 3\n",
    "all_metrics_requirement = False\n",
    "selected_vars = [\n",
    "        'WID: Top 1pc share – pretax',\n",
    "        'PIP: Gini'\n",
    "        ]\n",
    "\n",
    "all_metrics_requirement = True"
   ]
  },
  {
   "cell_type": "code",
   "execution_count": 19,
   "metadata": {},
   "outputs": [],
   "source": [
    "\n",
    "\n",
    "df_summary = change_summary_table(\n",
    "      source_dfs = source_dfs,\n",
    "      df_pop = df_pop,\n",
    "      df_pop_regions = df_pop_regions,\n",
    "      df_regions = df_regions,\n",
    "      selected_vars = selected_vars,\n",
    "      reference_vals = reference_vals,\n",
    "      max_dist_from_refs = max_dist_from_refs,\n",
    "      min_dist_between = 1,\n",
    "      all_metrics_requirement = all_metrics_requirement,\n",
    "      reference_col = \"Year\",\n",
    "      group_by_col = \"Entity\",\n",
    "      outlier_cut_off_upper = None,\n",
    "      tolerance_lookup =  tolerance_lookup,\n",
    "      region_col = 'region'\n",
    "      )\n",
    "\n",
    "\n",
    "\n",
    "df_summary.drop([\"Other N. America\", \"Other Oceania\"], axis=0, inplace=True)\n",
    "\n",
    "df_summary = df_summary['PIP: Gini']\n",
    "\n"
   ]
  },
  {
   "cell_type": "code",
   "execution_count": null,
   "metadata": {},
   "outputs": [],
   "source": []
  }
 ],
 "metadata": {
  "kernelspec": {
   "display_name": "Python 3 (ipykernel)",
   "language": "python",
   "name": "python3"
  },
  "language_info": {
   "codemirror_mode": {
    "name": "ipython",
    "version": 3
   },
   "file_extension": ".py",
   "mimetype": "text/x-python",
   "name": "python",
   "nbconvert_exporter": "python",
   "pygments_lexer": "ipython3",
   "version": "3.9.7"
  },
  "vscode": {
   "interpreter": {
    "hash": "aee8b7b246df8f9039afb4144a1f6fd8d2ca17a180786b69acc140d282b71a49"
   }
  }
 },
 "nbformat": 4,
 "nbformat_minor": 4
}
