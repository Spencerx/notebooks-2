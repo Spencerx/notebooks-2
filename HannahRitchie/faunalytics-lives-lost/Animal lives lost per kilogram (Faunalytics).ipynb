{
 "cells": [
  {
   "cell_type": "code",
   "execution_count": 36,
   "id": "51330b7e",
   "metadata": {},
   "outputs": [],
   "source": [
    "import pandas as pd"
   ]
  },
  {
   "cell_type": "code",
   "execution_count": 37,
   "id": "827fa6d7",
   "metadata": {},
   "outputs": [],
   "source": [
    "## Faunalytics data is sourced from here: https://osf.io/dkst3\n",
    "## Methodology is explained here: https://osf.io/rjp4m"
   ]
  },
  {
   "cell_type": "code",
   "execution_count": 38,
   "id": "89556f35",
   "metadata": {},
   "outputs": [],
   "source": [
    "raw = pd.read_excel(\"inputs/faunalytics-lives-lost.xlsx\", sheet_name = \"data\")"
   ]
  },
  {
   "cell_type": "code",
   "execution_count": 39,
   "id": "5d2a3263",
   "metadata": {},
   "outputs": [],
   "source": [
    "lives_lost = raw.rename(columns={\"Animal Product\":\"country\",\n",
    "                                \"lives.per.kg.direct\":\"lives_per_kg_direct\",\n",
    "                                \"lives.per.kg.total\":\"lives_per_kg_total\",\n",
    "                                \"days.per.kg.direct\":\"days_per_kg_direct\",\n",
    "                                \"days.per.kg.total\":\"days_per_kg_total\"\n",
    "                                }\n",
    "                       )"
   ]
  },
  {
   "cell_type": "code",
   "execution_count": 40,
   "id": "6a2d42bb",
   "metadata": {},
   "outputs": [],
   "source": [
    "lives_lost[\"kilograms_per_animal_direct\"] = 1 / lives_lost[\"lives_per_kg_direct\"]"
   ]
  },
  {
   "cell_type": "code",
   "execution_count": 41,
   "id": "ac5a7177",
   "metadata": {},
   "outputs": [],
   "source": [
    "lives_lost[\"year\"] = 2023"
   ]
  },
  {
   "cell_type": "code",
   "execution_count": 42,
   "id": "ab99d3fb",
   "metadata": {},
   "outputs": [],
   "source": [
    "lives_lost = lives_lost[ [\"Year\"] + [ col for col in lives_lost.columns if col != \"Year\" ] ]\n",
    "lives_lost = lives_lost[ [\"Entity\"] + [ col for col in lives_lost.columns if col != \"Entity\" ] ]"
   ]
  },
  {
   "cell_type": "code",
   "execution_count": 43,
   "id": "97728a37",
   "metadata": {},
   "outputs": [],
   "source": [
    "lives_lost.to_csv(\"output/Animal lives lost per kilogram (Faunalytics).csv\", index=False)"
   ]
  }
 ],
 "metadata": {
  "kernelspec": {
   "display_name": "Python 3 (ipykernel)",
   "language": "python",
   "name": "python3"
  },
  "language_info": {
   "codemirror_mode": {
    "name": "ipython",
    "version": 3
   },
   "file_extension": ".py",
   "mimetype": "text/x-python",
   "name": "python",
   "nbconvert_exporter": "python",
   "pygments_lexer": "ipython3",
   "version": "3.8.9"
  }
 },
 "nbformat": 4,
 "nbformat_minor": 5
}
