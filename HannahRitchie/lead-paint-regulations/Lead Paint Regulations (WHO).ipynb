{
 "cells": [
  {
   "cell_type": "code",
   "execution_count": 103,
   "id": "a674015f",
   "metadata": {},
   "outputs": [],
   "source": [
    "## Get raw .csv file on lead paint regulations from the WHO here: https://www.who.int/data/gho/data/themes/topics/indicator-groups/legally-binding-controls-on-lead-paint"
   ]
  },
  {
   "cell_type": "code",
   "execution_count": 104,
   "id": "59746546",
   "metadata": {},
   "outputs": [],
   "source": [
    "import pandas as pd\n",
    "import numpy as np"
   ]
  },
  {
   "cell_type": "code",
   "execution_count": 105,
   "id": "097ce497",
   "metadata": {},
   "outputs": [],
   "source": [
    "lead = pd.read_csv(\"inputs/lead.csv\", encoding=\"latin1\")"
   ]
  },
  {
   "cell_type": "code",
   "execution_count": 106,
   "id": "89e0a1f7",
   "metadata": {},
   "outputs": [],
   "source": [
    "lead = lead[[\"Location\", \"Value\"]]"
   ]
  },
  {
   "cell_type": "code",
   "execution_count": 107,
   "id": "d93131ad",
   "metadata": {},
   "outputs": [],
   "source": [
    "## Remove \"No data\" values because OWID grapher will categorise them by default"
   ]
  },
  {
   "cell_type": "code",
   "execution_count": 108,
   "id": "776ac41f",
   "metadata": {},
   "outputs": [],
   "source": [
    "lead = lead.loc[lead[\"Value\"] != \"No data\"]"
   ]
  },
  {
   "cell_type": "code",
   "execution_count": 109,
   "id": "c4b89653",
   "metadata": {},
   "outputs": [],
   "source": [
    "countries = pd.read_csv(\"inputs/countries.csv\", encoding=\"latin1\")"
   ]
  },
  {
   "cell_type": "code",
   "execution_count": 110,
   "id": "294807be",
   "metadata": {},
   "outputs": [],
   "source": [
    "## Merge to standardise countries"
   ]
  },
  {
   "cell_type": "code",
   "execution_count": 111,
   "id": "73944ead",
   "metadata": {},
   "outputs": [],
   "source": [
    "lead = pd.merge(lead, countries)"
   ]
  },
  {
   "cell_type": "code",
   "execution_count": 112,
   "id": "bb0307c0",
   "metadata": {},
   "outputs": [],
   "source": [
    "lead = lead.drop(columns=[\"Location\"])"
   ]
  },
  {
   "cell_type": "code",
   "execution_count": 113,
   "id": "27d9d81a",
   "metadata": {},
   "outputs": [],
   "source": [
    "## Add year column"
   ]
  },
  {
   "cell_type": "code",
   "execution_count": 114,
   "id": "6b332039",
   "metadata": {},
   "outputs": [],
   "source": [
    "lead[\"Year\"] = 2023"
   ]
  },
  {
   "cell_type": "code",
   "execution_count": 115,
   "id": "c72cce44",
   "metadata": {},
   "outputs": [],
   "source": [
    "new_cols = [col for col in lead.columns if col != \"Value\"] + [\"Value\"]\n",
    "lead = lead[new_cols]"
   ]
  },
  {
   "cell_type": "code",
   "execution_count": 116,
   "id": "4c85b38c",
   "metadata": {},
   "outputs": [],
   "source": [
    "lead = lead.rename(columns={\"Value\":\"lead_paint_regulation\"\n",
    "                           }\n",
    "                  )"
   ]
  },
  {
   "cell_type": "code",
   "execution_count": 117,
   "id": "05e1aa45",
   "metadata": {},
   "outputs": [],
   "source": [
    "lead.to_csv(\"output/Lead paint regulation (WHO, 2023).csv\", index=False)"
   ]
  }
 ],
 "metadata": {
  "kernelspec": {
   "display_name": "Python 3 (ipykernel)",
   "language": "python",
   "name": "python3"
  },
  "language_info": {
   "codemirror_mode": {
    "name": "ipython",
    "version": 3
   },
   "file_extension": ".py",
   "mimetype": "text/x-python",
   "name": "python",
   "nbconvert_exporter": "python",
   "pygments_lexer": "ipython3",
   "version": "3.8.9"
  }
 },
 "nbformat": 4,
 "nbformat_minor": 5
}
