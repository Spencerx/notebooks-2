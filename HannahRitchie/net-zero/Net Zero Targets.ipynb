{
 "cells": [
  {
   "cell_type": "code",
   "execution_count": 61,
   "id": "d98f4b5b",
   "metadata": {},
   "outputs": [],
   "source": [
    "import pandas as pd"
   ]
  },
  {
   "cell_type": "code",
   "execution_count": 62,
   "id": "cee07c26",
   "metadata": {},
   "outputs": [],
   "source": [
    "## Downloaded nation data from here: https://zerotracker.net/"
   ]
  },
  {
   "cell_type": "code",
   "execution_count": 63,
   "id": "049fb028",
   "metadata": {},
   "outputs": [],
   "source": [
    "net_zero = pd.read_excel(\"inputs/net_zero.xlsx\", sheet_name=\"NZT DATA\")\n",
    "countries = pd.read_csv(\"inputs/countries.csv\", encoding=\"latin1\")"
   ]
  },
  {
   "cell_type": "code",
   "execution_count": 64,
   "id": "511905cb",
   "metadata": {},
   "outputs": [],
   "source": [
    "net_zero = net_zero[[\"name\", \"end_target_year\", \"end_target_status\"]]"
   ]
  },
  {
   "cell_type": "code",
   "execution_count": 65,
   "id": "1bf3e5ef",
   "metadata": {},
   "outputs": [],
   "source": [
    "net_zero = pd.merge(net_zero, countries)"
   ]
  },
  {
   "cell_type": "code",
   "execution_count": 66,
   "id": "c1180179",
   "metadata": {},
   "outputs": [],
   "source": [
    "net_zero = net_zero.drop(columns=[\"name\"])"
   ]
  },
  {
   "cell_type": "code",
   "execution_count": 67,
   "id": "fcd1cc0a",
   "metadata": {},
   "outputs": [],
   "source": [
    "net_zero[\"has_net_zero_target\"] = \"Yes\""
   ]
  },
  {
   "cell_type": "code",
   "execution_count": 68,
   "id": "7f4153e5",
   "metadata": {},
   "outputs": [
    {
     "data": {
      "text/html": [
       "<div>\n",
       "<style scoped>\n",
       "    .dataframe tbody tr th:only-of-type {\n",
       "        vertical-align: middle;\n",
       "    }\n",
       "\n",
       "    .dataframe tbody tr th {\n",
       "        vertical-align: top;\n",
       "    }\n",
       "\n",
       "    .dataframe thead th {\n",
       "        text-align: right;\n",
       "    }\n",
       "</style>\n",
       "<table border=\"1\" class=\"dataframe\">\n",
       "  <thead>\n",
       "    <tr style=\"text-align: right;\">\n",
       "      <th></th>\n",
       "      <th>end_target_year</th>\n",
       "      <th>end_target_status</th>\n",
       "      <th>country</th>\n",
       "      <th>has_net_zero_target</th>\n",
       "    </tr>\n",
       "  </thead>\n",
       "  <tbody>\n",
       "    <tr>\n",
       "      <th>0</th>\n",
       "      <td>2050</td>\n",
       "      <td>Proposed / in discussion</td>\n",
       "      <td>Afghanistan</td>\n",
       "      <td>Yes</td>\n",
       "    </tr>\n",
       "    <tr>\n",
       "      <th>1</th>\n",
       "      <td>2050</td>\n",
       "      <td>Proposed / in discussion</td>\n",
       "      <td>Angola</td>\n",
       "      <td>Yes</td>\n",
       "    </tr>\n",
       "    <tr>\n",
       "      <th>2</th>\n",
       "      <td>2050</td>\n",
       "      <td>In policy document</td>\n",
       "      <td>Argentina</td>\n",
       "      <td>Yes</td>\n",
       "    </tr>\n",
       "    <tr>\n",
       "      <th>3</th>\n",
       "      <td>2050</td>\n",
       "      <td>Proposed / in discussion</td>\n",
       "      <td>Armenia</td>\n",
       "      <td>Yes</td>\n",
       "    </tr>\n",
       "    <tr>\n",
       "      <th>4</th>\n",
       "      <td>2040</td>\n",
       "      <td>In policy document</td>\n",
       "      <td>Antigua and Barbuda</td>\n",
       "      <td>Yes</td>\n",
       "    </tr>\n",
       "    <tr>\n",
       "      <th>...</th>\n",
       "      <td>...</td>\n",
       "      <td>...</td>\n",
       "      <td>...</td>\n",
       "      <td>...</td>\n",
       "    </tr>\n",
       "    <tr>\n",
       "      <th>144</th>\n",
       "      <td>2050</td>\n",
       "      <td>In policy document</td>\n",
       "      <td>Vietnam</td>\n",
       "      <td>Yes</td>\n",
       "    </tr>\n",
       "    <tr>\n",
       "      <th>145</th>\n",
       "      <td>2050</td>\n",
       "      <td>Proposed / in discussion</td>\n",
       "      <td>South Sudan</td>\n",
       "      <td>Yes</td>\n",
       "    </tr>\n",
       "    <tr>\n",
       "      <th>146</th>\n",
       "      <td>2050</td>\n",
       "      <td>In policy document</td>\n",
       "      <td>Singapore</td>\n",
       "      <td>Yes</td>\n",
       "    </tr>\n",
       "    <tr>\n",
       "      <th>147</th>\n",
       "      <td>2050</td>\n",
       "      <td>In law</td>\n",
       "      <td>European Union</td>\n",
       "      <td>Yes</td>\n",
       "    </tr>\n",
       "    <tr>\n",
       "      <th>148</th>\n",
       "      <td>2050</td>\n",
       "      <td>Proposed / in discussion</td>\n",
       "      <td>Niue</td>\n",
       "      <td>Yes</td>\n",
       "    </tr>\n",
       "  </tbody>\n",
       "</table>\n",
       "<p>149 rows × 4 columns</p>\n",
       "</div>"
      ],
      "text/plain": [
       "     end_target_year         end_target_status              country  \\\n",
       "0               2050  Proposed / in discussion          Afghanistan   \n",
       "1               2050  Proposed / in discussion               Angola   \n",
       "2               2050        In policy document            Argentina   \n",
       "3               2050  Proposed / in discussion              Armenia   \n",
       "4               2040        In policy document  Antigua and Barbuda   \n",
       "..               ...                       ...                  ...   \n",
       "144             2050        In policy document              Vietnam   \n",
       "145             2050  Proposed / in discussion          South Sudan   \n",
       "146             2050        In policy document            Singapore   \n",
       "147             2050                    In law       European Union   \n",
       "148             2050  Proposed / in discussion                 Niue   \n",
       "\n",
       "    has_net_zero_target  \n",
       "0                   Yes  \n",
       "1                   Yes  \n",
       "2                   Yes  \n",
       "3                   Yes  \n",
       "4                   Yes  \n",
       "..                  ...  \n",
       "144                 Yes  \n",
       "145                 Yes  \n",
       "146                 Yes  \n",
       "147                 Yes  \n",
       "148                 Yes  \n",
       "\n",
       "[149 rows x 4 columns]"
      ]
     },
     "execution_count": 68,
     "metadata": {},
     "output_type": "execute_result"
    }
   ],
   "source": [
    "net_zero"
   ]
  },
  {
   "cell_type": "code",
   "execution_count": 69,
   "id": "dc41b911",
   "metadata": {},
   "outputs": [],
   "source": [
    "net_zero = net_zero.rename(columns={\"end_target_year\":\"year\",\n",
    "                                   \"end_target_status\":\"net_zero_status\"\n",
    "                                   }\n",
    "                          )"
   ]
  },
  {
   "cell_type": "code",
   "execution_count": 70,
   "id": "b81cf47f",
   "metadata": {},
   "outputs": [],
   "source": [
    "net_zero = net_zero[ [\"country\"] + [ col for col in net_zero.columns if col != \"country\" ] ]"
   ]
  },
  {
   "cell_type": "code",
   "execution_count": 71,
   "id": "ffd9f812",
   "metadata": {},
   "outputs": [],
   "source": [
    "net_zero.to_csv(\"output/Net Zero Targets (Net Zero Tracker).csv\", index=False)"
   ]
  }
 ],
 "metadata": {
  "kernelspec": {
   "display_name": "Python 3 (ipykernel)",
   "language": "python",
   "name": "python3"
  },
  "language_info": {
   "codemirror_mode": {
    "name": "ipython",
    "version": 3
   },
   "file_extension": ".py",
   "mimetype": "text/x-python",
   "name": "python",
   "nbconvert_exporter": "python",
   "pygments_lexer": "ipython3",
   "version": "3.8.9"
  }
 },
 "nbformat": 4,
 "nbformat_minor": 5
}
